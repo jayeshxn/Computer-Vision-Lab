{
 "cells": [
  {
   "cell_type": "code",
   "execution_count": 2,
   "id": "initial_id",
   "metadata": {
    "collapsed": true,
    "ExecuteTime": {
     "end_time": "2024-03-07T03:17:57.687954Z",
     "start_time": "2024-03-07T03:17:57.673545400Z"
    }
   },
   "outputs": [],
   "source": [
    "# Load Libraries\n",
    "import numpy as np\n",
    "from tensorflow import keras\n",
    "from tensorflow.keras import layers\n",
    "from sklearn.metrics import accuracy_score\n",
    "from keras.optimizers import Adam\n",
    "from sklearn.ensemble import RandomForestClassifier"
   ]
  },
  {
   "cell_type": "code",
   "outputs": [],
   "source": [
    "# Load MNIST dataset\n",
    "mnist = keras.datasets.mnist\n",
    "(x_train, y_train), (x_test, y_test) = mnist.load_data()"
   ],
   "metadata": {
    "collapsed": false,
    "ExecuteTime": {
     "end_time": "2024-03-07T03:18:24.930981400Z",
     "start_time": "2024-03-07T03:18:24.739607100Z"
    }
   },
   "id": "489f2e4e961ab78a",
   "execution_count": 3
  },
  {
   "cell_type": "code",
   "outputs": [
    {
     "data": {
      "text/plain": "((60000, 28, 28), (60000,), (10000, 28, 28), (10000,))"
     },
     "execution_count": 4,
     "metadata": {},
     "output_type": "execute_result"
    }
   ],
   "source": [
    "x_train.shape, y_train.shape, x_test.shape, y_test.shape"
   ],
   "metadata": {
    "collapsed": false,
    "ExecuteTime": {
     "end_time": "2024-03-07T03:18:46.214791200Z",
     "start_time": "2024-03-07T03:18:46.184167100Z"
    }
   },
   "id": "63e2ad7a90506f6c",
   "execution_count": 4
  },
  {
   "cell_type": "code",
   "outputs": [],
   "source": [
    "# Normalize pixel values to be between 0 and 1\n",
    "x_train, x_test = x_train / 255.0, x_test / 255.0"
   ],
   "metadata": {
    "collapsed": false,
    "ExecuteTime": {
     "end_time": "2024-03-07T03:19:16.387879600Z",
     "start_time": "2024-03-07T03:19:16.202060900Z"
    }
   },
   "id": "5190009788eba596",
   "execution_count": 5
  },
  {
   "cell_type": "code",
   "outputs": [],
   "source": [
    "# Reshape data to add a channel dimension\n",
    "x_train = x_train.reshape((-1,28,28,1))\n",
    "x_test = x_test.reshape((-1,28,28,1))"
   ],
   "metadata": {
    "collapsed": false,
    "ExecuteTime": {
     "end_time": "2024-03-07T03:20:37.745606400Z",
     "start_time": "2024-03-07T03:20:37.739924Z"
    }
   },
   "id": "3b9b8aba82b1d63",
   "execution_count": 6
  },
  {
   "cell_type": "markdown",
   "source": [
    "## 1. Model 1"
   ],
   "metadata": {
    "collapsed": false
   },
   "id": "b85d32bfb48f9198"
  },
  {
   "cell_type": "code",
   "outputs": [
    {
     "name": "stdout",
     "output_type": "stream",
     "text": [
      "Model: \"sequential_2\"\n",
      "_________________________________________________________________\n",
      " Layer (type)                Output Shape              Param #   \n",
      "=================================================================\n",
      " conv2d_4 (Conv2D)           (None, 13, 13, 32)        320       \n",
      "                                                                 \n",
      " max_pooling2d_2 (MaxPooling  (None, 12, 12, 32)       0         \n",
      " 2D)                                                             \n",
      "                                                                 \n",
      " conv2d_5 (Conv2D)           (None, 5, 5, 16)          8208      \n",
      "                                                                 \n",
      " max_pooling2d_3 (MaxPooling  (None, 1, 1, 16)         0         \n",
      " 2D)                                                             \n",
      "                                                                 \n",
      " flatten_2 (Flatten)         (None, 16)                0         \n",
      "                                                                 \n",
      " dense_4 (Dense)             (None, 8)                 136       \n",
      "                                                                 \n",
      " dense_5 (Dense)             (None, 10)                90        \n",
      "                                                                 \n",
      "=================================================================\n",
      "Total params: 8,754\n",
      "Trainable params: 8,754\n",
      "Non-trainable params: 0\n",
      "_________________________________________________________________\n"
     ]
    }
   ],
   "source": [
    "build_model_1 = keras.Sequential([\n",
    "    layers.Conv2D(32, (3,3), strides=(2,2), activation='relu', input_shape=(28,28,1)),\n",
    "    layers.MaxPooling2D((2,2), strides=(1,1)),\n",
    "    layers.Conv2D(16, (4,4), strides=(2,2), activation='relu'),\n",
    "    layers.MaxPooling2D((4,4), strides=(2,2)),\n",
    "    layers.Flatten(),\n",
    "    layers.Dense(8, activation='relu'),\n",
    "    layers.Dense(10, activation='softmax')\n",
    "])\n",
    "\n",
    "learning_rate = 0.01\n",
    "\n",
    "optimizer = Adam(learning_rate=learning_rate)\n",
    "\n",
    "build_model_1.compile(optimizer = optimizer, loss='sparse_categorical_crossentropy', metrics = ['accuracy']\n",
    ")\n",
    "\n",
    "build_model_1.summary()"
   ],
   "metadata": {
    "collapsed": false,
    "ExecuteTime": {
     "end_time": "2024-03-07T04:26:44.023193900Z",
     "start_time": "2024-03-07T04:26:43.929626900Z"
    }
   },
   "id": "c2c4648c7ba895b1",
   "execution_count": 13
  },
  {
   "cell_type": "code",
   "outputs": [
    {
     "name": "stdout",
     "output_type": "stream",
     "text": [
      "Training Model1 1...\n",
      "Epoch 1/5\n",
      "469/469 [==============================] - 2s 4ms/step - loss: 0.9783 - accuracy: 0.6521\n",
      "Epoch 2/5\n",
      "469/469 [==============================] - 2s 4ms/step - loss: 0.4294 - accuracy: 0.8680\n",
      "Epoch 3/5\n",
      "469/469 [==============================] - 2s 4ms/step - loss: 0.3030 - accuracy: 0.9076\n",
      "Epoch 4/5\n",
      "469/469 [==============================] - 2s 4ms/step - loss: 0.2513 - accuracy: 0.9230\n",
      "Epoch 5/5\n",
      "469/469 [==============================] - 2s 4ms/step - loss: 0.2240 - accuracy: 0.9322\n",
      "Evaluating Model1 1...\n",
      "313/313 - 1s - loss: 0.2083 - accuracy: 0.9336 - 635ms/epoch - 2ms/step\n",
      "Mean test accuracy of Model 1:  0.9336000084877014\n"
     ]
    }
   ],
   "source": [
    "model1_accuracies = []\n",
    "\n",
    "for i in range(1):\n",
    "    \n",
    "    print(f\"Training Model1 {i+1}...\")\n",
    "    build_model_1.fit(x_train, y_train, epochs=5, batch_size = 128)\n",
    "    \n",
    "    print(f\"Evaluating Model1 {i+1}...\")\n",
    "    test_loss_m1, test_accuracy_m1 = build_model_1.evaluate(x_test, y_test, verbose=2)\n",
    "    model1_accuracies.append(test_accuracy_m1)\n",
    "\n",
    "mean_test_accuracy_m1 = np.mean(model1_accuracies)\n",
    "print(\"Mean test accuracy of Model 1: \", mean_test_accuracy_m1)"
   ],
   "metadata": {
    "collapsed": false,
    "ExecuteTime": {
     "end_time": "2024-03-07T04:26:58.381566600Z",
     "start_time": "2024-03-07T04:26:47.538379300Z"
    }
   },
   "id": "fe2a0fb10c8e7aab",
   "execution_count": 14
  },
  {
   "cell_type": "code",
   "outputs": [
    {
     "name": "stdout",
     "output_type": "stream",
     "text": [
      "1875/1875 [==============================] - 2s 1ms/step\n",
      "313/313 [==============================] - 0s 1ms/step\n",
      "Accuracy of Random Forest classifier on extracted features model 1: 0.9401\n"
     ]
    }
   ],
   "source": [
    "# Extract the features from second last fully connected layer (having 8 neurons)\n",
    "\n",
    "feature_extractor_m1 = keras.Model(\n",
    "    inputs=build_model_1.inputs,\n",
    "    outputs = build_model_1.layers[-2].output)\n",
    "\n",
    "#predict the feature train and test\n",
    "train_features_m1 = feature_extractor_m1.predict(x_train)\n",
    "test_features_m1 = feature_extractor_m1.predict(x_test)\n",
    "\n",
    "# Model features using Random Forest classifier\n",
    "rf_classifier_m1 = RandomForestClassifier(n_estimators = 100, random_state=42)\n",
    "rf_classifier_m1.fit(train_features_m1, y_train)\n",
    "\n",
    "# Predict using the Random Forest classifier\n",
    "predictions_m1 = rf_classifier_m1.predict(test_features_m1)\n",
    "\n",
    "# Calculate accuracy\n",
    "accuracy_m1 = accuracy_score(y_test, predictions_m1)\n",
    "print(\"Accuracy of Random Forest classifier on extracted features model 1:\", accuracy_m1)\n"
   ],
   "metadata": {
    "collapsed": false,
    "ExecuteTime": {
     "end_time": "2024-03-07T04:27:22.654188200Z",
     "start_time": "2024-03-07T04:27:01.568671900Z"
    }
   },
   "id": "109cbead3212eb2f",
   "execution_count": 15
  },
  {
   "cell_type": "markdown",
   "source": [
    "## Model 2"
   ],
   "metadata": {
    "collapsed": false
   },
   "id": "17ba4f17ca703005"
  },
  {
   "cell_type": "code",
   "outputs": [
    {
     "name": "stdout",
     "output_type": "stream",
     "text": [
      "Model: \"sequential_3\"\n",
      "_________________________________________________________________\n",
      " Layer (type)                Output Shape              Param #   \n",
      "=================================================================\n",
      " conv2d_6 (Conv2D)           (None, 13, 13, 32)        320       \n",
      "                                                                 \n",
      " average_pooling2d_2 (Averag  (None, 12, 12, 32)       0         \n",
      " ePooling2D)                                                     \n",
      "                                                                 \n",
      " conv2d_7 (Conv2D)           (None, 5, 5, 16)          8208      \n",
      "                                                                 \n",
      " average_pooling2d_3 (Averag  (None, 1, 1, 16)         0         \n",
      " ePooling2D)                                                     \n",
      "                                                                 \n",
      " flatten_3 (Flatten)         (None, 16)                0         \n",
      "                                                                 \n",
      " dense_6 (Dense)             (None, 8)                 136       \n",
      "                                                                 \n",
      " dense_7 (Dense)             (None, 10)                90        \n",
      "                                                                 \n",
      "=================================================================\n",
      "Total params: 8,754\n",
      "Trainable params: 8,754\n",
      "Non-trainable params: 0\n",
      "_________________________________________________________________\n"
     ]
    }
   ],
   "source": [
    "build_model_2 = keras.Sequential([\n",
    "    layers.Conv2D(32, (3,3), strides=(2,2), activation='relu', input_shape=(28,28,1)),\n",
    "    layers.AveragePooling2D((2,2), strides=(1,1)),\n",
    "    layers.Conv2D(16, (4,4), strides=(2,2), activation='relu'),\n",
    "    layers.AveragePooling2D((4,4), strides=(2,2)),\n",
    "    layers.Flatten(),\n",
    "    layers.Dense(8, activation='relu'),\n",
    "    layers.Dense(10, activation='softmax')\n",
    "])\n",
    "\n",
    "learning_rate = 0.01\n",
    "\n",
    "optimizer = Adam(learning_rate=learning_rate)\n",
    "\n",
    "build_model_2.compile(optimizer = optimizer, loss='sparse_categorical_crossentropy', metrics = ['accuracy']\n",
    "                      )\n",
    "\n",
    "build_model_2.summary()"
   ],
   "metadata": {
    "collapsed": false,
    "ExecuteTime": {
     "end_time": "2024-03-07T04:27:45.538348200Z",
     "start_time": "2024-03-07T04:27:45.436819400Z"
    }
   },
   "id": "27113189e00f41b8",
   "execution_count": 16
  },
  {
   "cell_type": "code",
   "outputs": [
    {
     "name": "stdout",
     "output_type": "stream",
     "text": [
      "Training Model2 1...\n",
      "Epoch 1/5\n",
      "469/469 [==============================] - 2s 4ms/step - loss: 1.3158 - accuracy: 0.5099\n",
      "Epoch 2/5\n",
      "469/469 [==============================] - 2s 4ms/step - loss: 0.6422 - accuracy: 0.7858\n",
      "Epoch 3/5\n",
      "469/469 [==============================] - 2s 4ms/step - loss: 0.4692 - accuracy: 0.8511\n",
      "Epoch 4/5\n",
      "469/469 [==============================] - 2s 4ms/step - loss: 0.4024 - accuracy: 0.8742\n",
      "Epoch 5/5\n",
      "469/469 [==============================] - 2s 4ms/step - loss: 0.3555 - accuracy: 0.8912\n",
      "Evaluating Model2 1...\n",
      "313/313 - 1s - loss: 0.3185 - accuracy: 0.9007 - 669ms/epoch - 2ms/step\n",
      "Mean test accuracy of Model 2:  0.9006999731063843\n"
     ]
    }
   ],
   "source": [
    "model2_accuracies = []\n",
    "\n",
    "for i in range(1):\n",
    "    \n",
    "    print(f\"Training Model2 {i+1}...\")\n",
    "    build_model_2.fit(x_train, y_train, epochs=5, batch_size = 128)\n",
    "    \n",
    "    print(f\"Evaluating Model2 {i+1}...\")\n",
    "    test_loss_m2, test_accuracy_m2 = build_model_2.evaluate(x_test, y_test, verbose=2)\n",
    "    model2_accuracies.append(test_accuracy_m2)\n",
    "\n",
    "mean_test_accuracy_m2 = np.mean(model2_accuracies)\n",
    "print(\"Mean test accuracy of Model 2: \", mean_test_accuracy_m2)"
   ],
   "metadata": {
    "collapsed": false,
    "ExecuteTime": {
     "end_time": "2024-03-07T04:27:59.145023600Z",
     "start_time": "2024-03-07T04:27:49.166902500Z"
    }
   },
   "id": "7ec9c131ae7acd2e",
   "execution_count": 17
  },
  {
   "cell_type": "code",
   "outputs": [],
   "source": [],
   "metadata": {
    "collapsed": false
   },
   "id": "81cc25d04629245a"
  }
 ],
 "metadata": {
  "kernelspec": {
   "display_name": "Python 3",
   "language": "python",
   "name": "python3"
  },
  "language_info": {
   "codemirror_mode": {
    "name": "ipython",
    "version": 2
   },
   "file_extension": ".py",
   "mimetype": "text/x-python",
   "name": "python",
   "nbconvert_exporter": "python",
   "pygments_lexer": "ipython2",
   "version": "2.7.6"
  }
 },
 "nbformat": 4,
 "nbformat_minor": 5
}
